{
 "cells": [
  {
   "cell_type": "code",
   "execution_count": 1,
   "metadata": {},
   "outputs": [],
   "source": [
    "from math import log2, ceil\n",
    "\n",
    "def GenerateBBSTArray(a, BST_array = [], slot = 0, index = 0):\n",
    "    if len(BST_array) == 0:\n",
    "        BST_array = [None] * (2**(ceil(log2((len(a)+1)/2))+1)-1)\n",
    "        a = sorted (a)\n",
    "           \n",
    "    index = int((len(a)/2))\n",
    "    \n",
    "    if index < len(a) and a[index] not in BST_array:\n",
    "        \n",
    "        BST_array[slot] = a[index]\n",
    "        \n",
    "        GenerateBBSTArray(a[:index], BST_array, slot * 2 + 1, index )\n",
    "\n",
    "        GenerateBBSTArray(a[index+1:], BST_array, slot * 2 + 2, index )\n",
    "    \n",
    "    return BST_array"
   ]
  }
 ],
 "metadata": {
  "kernelspec": {
   "display_name": "Python 3",
   "language": "python",
   "name": "python3"
  },
  "language_info": {
   "codemirror_mode": {
    "name": "ipython",
    "version": 3
   },
   "file_extension": ".py",
   "mimetype": "text/x-python",
   "name": "python",
   "nbconvert_exporter": "python",
   "pygments_lexer": "ipython3",
   "version": "3.6.5"
  }
 },
 "nbformat": 4,
 "nbformat_minor": 2
}
