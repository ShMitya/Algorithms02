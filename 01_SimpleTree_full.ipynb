{
 "cells": [
  {
   "cell_type": "code",
   "execution_count": 17,
   "metadata": {},
   "outputs": [],
   "source": [
    "class SimpleTreeNode:\n",
    "\n",
    "    def __init__(self, val, parent):\n",
    "        self.NodeValue = val\n",
    "        self.Parent = parent\n",
    "        self.Children = []\n",
    "\n",
    "class SimpleTree:\n",
    "\n",
    "    def __init__(self, Root):\n",
    "        self.Root = Root\n",
    "        \n",
    "    def AddChild(self, ParentNode, NewChild):\n",
    "        if self.Root is None:\n",
    "            self.Root = NewChild\n",
    "            NewChild.Parent = None\n",
    "        else:\n",
    "            NewChild.Parent = ParentNode\n",
    "            ParentNode.Children.append(NewChild) \n",
    "  \n",
    "    def DeleteNode(self, NodeToDelete):\n",
    "        if self.Root is not NodeToDelete:\n",
    "            NodeToDelete.Parent.Children.remove(NodeToDelete)\n",
    "            NodeToDelete.Parent = None\n",
    "            \n",
    "    def GetAllNodes(self):\n",
    "        list_to_return = []\n",
    "        if self.Root is None:\n",
    "            return list_to_return    \n",
    "        \n",
    "        list_to_return.append(self.Root)\n",
    "        for node in list_to_return:\n",
    "            list_to_return += node.Children\n",
    "\n",
    "        return list_to_return\n",
    "\n",
    "    def FindNodesByValue(self, val):\n",
    "        nodes_list = self.GetAllNodes()\n",
    "        list_to_return = []\n",
    "        for node in nodes_list:\n",
    "            if node.NodeValue == val:\n",
    "                list_to_return.append(node)\n",
    "        return list_to_return\n",
    "   \n",
    "    def MoveNode(self, OriginalNode, NewParent):\n",
    "        if self.Root is not OriginalNode:\n",
    "            if NewParent is None:\n",
    "                self.Root = OriginalNode\n",
    "                OriginalNode.Parent = None\n",
    "                return\n",
    "            \n",
    "            NewParent.Children.append(OriginalNode)\n",
    "            OriginalNode.Parent.Children.remove(OriginalNode)\n",
    "            OriginalNode.Parent = NewParent\n",
    "   \n",
    "    def Count(self):\n",
    "        all_nodes_list = self.GetAllNodes()\n",
    "        return len(self.GetAllNodes())\n",
    "\n",
    "    def LeafCount(self):\n",
    "        all_nodes_list = self.GetAllNodes()\n",
    "        i = 0\n",
    "        for node in all_nodes_list:\n",
    "            if len(node.Children) is 0:\n",
    "                i+=1\n",
    "        return i"
   ]
  },
  {
   "cell_type": "code",
   "execution_count": 18,
   "metadata": {},
   "outputs": [],
   "source": [
    "tree_to_test = SimpleTree(None)\n",
    "tree_to_test.AddChild(None, SimpleTreeNode(1, None))\n",
    "tree_to_test.AddChild(tree_to_test.Root, SimpleTreeNode(10, tree_to_test.Root))\n",
    "tree_to_test.AddChild(tree_to_test.Root, SimpleTreeNode(11, tree_to_test.Root))\n",
    "tree_to_test.AddChild(tree_to_test.Root, SimpleTreeNode(12, tree_to_test.Root))\n",
    "tree_to_test.AddChild(tree_to_test.Root, SimpleTreeNode(13, tree_to_test.Root))\n",
    "tree_to_test.AddChild(tree_to_test.Root, SimpleTreeNode(14, tree_to_test.Root))\n",
    "tree_to_test.AddChild(tree_to_test.Root, SimpleTreeNode(15, tree_to_test.Root))\n",
    "tree_to_test.AddChild(tree_to_test.Root.Children[0], SimpleTreeNode(100, tree_to_test.Root.Children[0]))\n",
    "tree_to_test.AddChild(tree_to_test.Root.Children[0], SimpleTreeNode(101, tree_to_test.Root.Children[0]))\n",
    "tree_to_test.AddChild(tree_to_test.Root.Children[0], SimpleTreeNode(102, tree_to_test.Root.Children[0]))\n",
    "tree_to_test.AddChild(tree_to_test.Root.Children[1], SimpleTreeNode(110, tree_to_test.Root.Children[1]))\n",
    "tree_to_test.AddChild(tree_to_test.Root.Children[1], SimpleTreeNode(111, tree_to_test.Root.Children[1]))\n",
    "tree_to_test.AddChild(tree_to_test.Root.Children[1], SimpleTreeNode(112, tree_to_test.Root.Children[1]))\n",
    "tree_to_test.AddChild(tree_to_test.Root.Children[1], SimpleTreeNode(113, tree_to_test.Root.Children[1]))\n",
    "\n",
    "tree_to_test.AddChild(tree_to_test.Root.Children[3], SimpleTreeNode(130, tree_to_test.Root.Children[3]))\n",
    "tree_to_test.AddChild(tree_to_test.Root.Children[3], SimpleTreeNode(131, tree_to_test.Root.Children[3]))\n",
    "tree_to_test.AddChild(tree_to_test.Root.Children[3], SimpleTreeNode(132, tree_to_test.Root.Children[3]))\n",
    "tree_to_test.AddChild(tree_to_test.Root.Children[3], SimpleTreeNode(133, tree_to_test.Root.Children[3]))\n",
    "tree_to_test.AddChild(tree_to_test.Root.Children[3], SimpleTreeNode(134, tree_to_test.Root.Children[3]))\n",
    "\n",
    "tree_to_test.AddChild(tree_to_test.Root.Children[5], SimpleTreeNode(150, tree_to_test.Root.Children[5]))\n",
    "tree_to_test.AddChild(tree_to_test.Root.Children[5], SimpleTreeNode(151, tree_to_test.Root.Children[5]))\n",
    "tree_to_test.AddChild(tree_to_test.Root.Children[0].Children[0], SimpleTreeNode(1000, tree_to_test.Root.Children[0].Children[0]))\n",
    "tree_to_test.AddChild(tree_to_test.Root.Children[0].Children[0], SimpleTreeNode(1001, tree_to_test.Root.Children[0].Children[0]))\n",
    "tree_to_test.AddChild(tree_to_test.Root.Children[0].Children[1], SimpleTreeNode(1010, tree_to_test.Root.Children[0].Children[1]))\n",
    "tree_to_test.AddChild(tree_to_test.Root.Children[0].Children[1], SimpleTreeNode(1011, tree_to_test.Root.Children[0].Children[1]))\n",
    "tree_to_test.AddChild(tree_to_test.Root.Children[0].Children[2], SimpleTreeNode(1020, tree_to_test.Root.Children[0].Children[2]))\n",
    "tree_to_test.AddChild(tree_to_test.Root.Children[0].Children[2], SimpleTreeNode(1021, tree_to_test.Root.Children[0].Children[2]))\n",
    "tree_to_test.AddChild(tree_to_test.Root.Children[1].Children[0], SimpleTreeNode(1100, tree_to_test.Root.Children[1].Children[0]))\n",
    "tree_to_test.AddChild(tree_to_test.Root.Children[1].Children[0], SimpleTreeNode(1101, tree_to_test.Root.Children[1].Children[0]))\n",
    "\n",
    "tree_to_test.AddChild(tree_to_test.Root.Children[3].Children[2], SimpleTreeNode(1320, tree_to_test.Root.Children[3].Children[2]))\n",
    "tree_to_test.AddChild(tree_to_test.Root.Children[3].Children[2], SimpleTreeNode(1321, tree_to_test.Root.Children[3].Children[2]))\n",
    "tree_to_test.AddChild(tree_to_test.Root.Children[3].Children[2], SimpleTreeNode(1322, tree_to_test.Root.Children[3].Children[2]))\n",
    "tree_to_test.AddChild(tree_to_test.Root.Children[3].Children[2], SimpleTreeNode(1323, tree_to_test.Root.Children[3].Children[2]))\n",
    "tree_to_test.AddChild(tree_to_test.Root.Children[3].Children[2], SimpleTreeNode(1324, tree_to_test.Root.Children[3].Children[2]))\n",
    "tree_to_test.AddChild(tree_to_test.Root.Children[3].Children[2], SimpleTreeNode(1325, tree_to_test.Root.Children[3].Children[2]))"
   ]
  },
  {
   "cell_type": "code",
   "execution_count": 19,
   "metadata": {},
   "outputs": [
    {
     "name": "stdout",
     "output_type": "stream",
     "text": [
      "Корень 1\n",
      "Дети от корня [10, 11, 12, 13, 14, 15]\n",
      "Родитель детей от корня [1, 1, 1, 1, 1, 1]\n"
     ]
    }
   ],
   "source": [
    "print('Корень', tree_to_test.Root.NodeValue)\n",
    "print('Дети от корня', [x.NodeValue for x in tree_to_test.Root.Children])\n",
    "print('Родитель детей от корня',[x.Parent.NodeValue for x in tree_to_test.Root.Children])"
   ]
  },
  {
   "cell_type": "code",
   "execution_count": 20,
   "metadata": {},
   "outputs": [
    {
     "name": "stdout",
     "output_type": "stream",
     "text": [
      "Первый Родитель уровень 1: 10\n",
      "Дети от первого родителя уровня 1 [100, 101, 102]\n",
      "Родитель детей [10, 10, 10]\n"
     ]
    }
   ],
   "source": [
    "print('Первый Родитель уровень 1:', tree_to_test.Root.Children[0].NodeValue)\n",
    "print('Дети от первого родителя уровня 1', [x.NodeValue for x in tree_to_test.Root.Children[0].Children])\n",
    "print('Родитель детей',[x.Parent.NodeValue for x in tree_to_test.Root.Children[0].Children])"
   ]
  },
  {
   "cell_type": "code",
   "execution_count": 21,
   "metadata": {},
   "outputs": [
    {
     "name": "stdout",
     "output_type": "stream",
     "text": [
      "Второй Родитель уровень 1: 11\n",
      "Дети от второго родителя уровня 1 [110, 111, 112, 113]\n",
      "Родитель детей [11, 11, 11, 11]\n"
     ]
    }
   ],
   "source": [
    "print('Второй Родитель уровень 1:', tree_to_test.Root.Children[1].NodeValue)\n",
    "print('Дети от второго родителя уровня 1', [x.NodeValue for x in tree_to_test.Root.Children[1].Children])\n",
    "print('Родитель детей',[x.Parent.NodeValue for x in tree_to_test.Root.Children[1].Children])"
   ]
  },
  {
   "cell_type": "code",
   "execution_count": 22,
   "metadata": {},
   "outputs": [
    {
     "name": "stdout",
     "output_type": "stream",
     "text": [
      "Третий Родитель уровень 1: 12\n",
      "Дети от третьего родителя уровня 1 []\n",
      "Родитель детей []\n"
     ]
    }
   ],
   "source": [
    "print('Третий Родитель уровень 1:', tree_to_test.Root.Children[2].NodeValue)\n",
    "print('Дети от третьего родителя уровня 1', [x.NodeValue for x in tree_to_test.Root.Children[2].Children])\n",
    "print('Родитель детей',[x.Parent.NodeValue for x in tree_to_test.Root.Children[2].Children])"
   ]
  },
  {
   "cell_type": "code",
   "execution_count": 23,
   "metadata": {},
   "outputs": [
    {
     "name": "stdout",
     "output_type": "stream",
     "text": [
      "Четвертый Родитель уровень 1: 13\n",
      "Дети от четвертый родителя уровня 1 [130, 131, 132, 133, 134]\n",
      "Родитель детей [13, 13, 13, 13, 13]\n"
     ]
    }
   ],
   "source": [
    "print('Четвертый Родитель уровень 1:', tree_to_test.Root.Children[3].NodeValue)\n",
    "print('Дети от четвертый родителя уровня 1', [x.NodeValue for x in tree_to_test.Root.Children[3].Children])\n",
    "print('Родитель детей',[x.Parent.NodeValue for x in tree_to_test.Root.Children[3].Children])"
   ]
  },
  {
   "cell_type": "code",
   "execution_count": 24,
   "metadata": {},
   "outputs": [
    {
     "name": "stdout",
     "output_type": "stream",
     "text": [
      "Пятый Родитель уровень 1: 14\n",
      "Дети от пятого родителя уровня 1 []\n",
      "Родитель детей []\n"
     ]
    }
   ],
   "source": [
    "print('Пятый Родитель уровень 1:', tree_to_test.Root.Children[4].NodeValue)\n",
    "print('Дети от пятого родителя уровня 1', [x.NodeValue for x in tree_to_test.Root.Children[4].Children])\n",
    "print('Родитель детей',[x.Parent.NodeValue for x in tree_to_test.Root.Children[4].Children])"
   ]
  },
  {
   "cell_type": "code",
   "execution_count": 25,
   "metadata": {},
   "outputs": [
    {
     "name": "stdout",
     "output_type": "stream",
     "text": [
      "Шестой Родитель уровень 1: 15\n",
      "Дети от шестого родителя уровня 1 [150, 151]\n",
      "Родитель детей [15, 15]\n"
     ]
    }
   ],
   "source": [
    "print('Шестой Родитель уровень 1:', tree_to_test.Root.Children[5].NodeValue)\n",
    "print('Дети от шестого родителя уровня 1', [x.NodeValue for x in tree_to_test.Root.Children[5].Children])\n",
    "print('Родитель детей',[x.Parent.NodeValue for x in tree_to_test.Root.Children[5].Children])"
   ]
  },
  {
   "cell_type": "code",
   "execution_count": 26,
   "metadata": {},
   "outputs": [
    {
     "name": "stdout",
     "output_type": "stream",
     "text": [
      "Первый Родитель уровень 2: 100\n",
      "Дети от первого родителя уровня 2 [1000, 1001]\n",
      "Родитель детей [100, 100]\n"
     ]
    }
   ],
   "source": [
    "print('Первый Родитель уровень 2:', tree_to_test.Root.Children[0].Children[0].NodeValue)\n",
    "print('Дети от первого родителя уровня 2', [x.NodeValue for x in tree_to_test.Root.Children[0].Children[0].Children])\n",
    "print('Родитель детей',[x.Parent.NodeValue for x in tree_to_test.Root.Children[0].Children[0].Children])"
   ]
  },
  {
   "cell_type": "code",
   "execution_count": 27,
   "metadata": {},
   "outputs": [
    {
     "name": "stdout",
     "output_type": "stream",
     "text": [
      "Второй Родитель уровень 2: 101\n",
      "Дети от Второго родителя уровня 2 [1010, 1011]\n",
      "Родитель детей [101, 101]\n"
     ]
    }
   ],
   "source": [
    "print('Второй Родитель уровень 2:', tree_to_test.Root.Children[0].Children[1].NodeValue)\n",
    "print('Дети от Второго родителя уровня 2', [x.NodeValue for x in tree_to_test.Root.Children[0].Children[1].Children])\n",
    "print('Родитель детей',[x.Parent.NodeValue for x in tree_to_test.Root.Children[0].Children[1].Children])"
   ]
  },
  {
   "cell_type": "code",
   "execution_count": 28,
   "metadata": {},
   "outputs": [
    {
     "data": {
      "text/plain": [
       "35"
      ]
     },
     "execution_count": 28,
     "metadata": {},
     "output_type": "execute_result"
    }
   ],
   "source": [
    "tree_to_test.Count()"
   ]
  },
  {
   "cell_type": "code",
   "execution_count": 29,
   "metadata": {},
   "outputs": [
    {
     "data": {
      "text/plain": [
       "25"
      ]
     },
     "execution_count": 29,
     "metadata": {},
     "output_type": "execute_result"
    }
   ],
   "source": [
    "tree_to_test.LeafCount()"
   ]
  },
  {
   "cell_type": "code",
   "execution_count": null,
   "metadata": {},
   "outputs": [],
   "source": []
  },
  {
   "cell_type": "code",
   "execution_count": null,
   "metadata": {},
   "outputs": [],
   "source": []
  },
  {
   "cell_type": "code",
   "execution_count": 15,
   "metadata": {},
   "outputs": [
    {
     "data": {
      "text/plain": [
       "35"
      ]
     },
     "execution_count": 15,
     "metadata": {},
     "output_type": "execute_result"
    }
   ],
   "source": [
    "len(tree_to_test.GetAllNodes())"
   ]
  },
  {
   "cell_type": "code",
   "execution_count": 101,
   "metadata": {},
   "outputs": [],
   "source": [
    "tree_to_test.MoveNode(tree_to_test.Root.Children[0], tree_to_test.Root.Children[5].Children[1])"
   ]
  },
  {
   "cell_type": "code",
   "execution_count": 102,
   "metadata": {},
   "outputs": [
    {
     "data": {
      "text/plain": [
       "35"
      ]
     },
     "execution_count": 102,
     "metadata": {},
     "output_type": "execute_result"
    }
   ],
   "source": [
    "len(tree_to_test.GetAllNodes())"
   ]
  },
  {
   "cell_type": "code",
   "execution_count": 103,
   "metadata": {},
   "outputs": [
    {
     "data": {
      "text/plain": [
       "[11, 12, 13, 14, 15]"
      ]
     },
     "execution_count": 103,
     "metadata": {},
     "output_type": "execute_result"
    }
   ],
   "source": [
    "[x.NodeValue for x in tree_to_test.Root.Children]"
   ]
  },
  {
   "cell_type": "code",
   "execution_count": 104,
   "metadata": {},
   "outputs": [
    {
     "data": {
      "text/plain": [
       "[150, 151]"
      ]
     },
     "execution_count": 104,
     "metadata": {},
     "output_type": "execute_result"
    }
   ],
   "source": [
    "[x.NodeValue for x in tree_to_test.Root.Children[4].Children]"
   ]
  },
  {
   "cell_type": "code",
   "execution_count": 106,
   "metadata": {},
   "outputs": [
    {
     "data": {
      "text/plain": [
       "[10]"
      ]
     },
     "execution_count": 106,
     "metadata": {},
     "output_type": "execute_result"
    }
   ],
   "source": [
    "[x.NodeValue for x in tree_to_test.Root.Children[4].Children[1].Children]"
   ]
  },
  {
   "cell_type": "code",
   "execution_count": 107,
   "metadata": {},
   "outputs": [
    {
     "data": {
      "text/plain": [
       "[100, 101, 102]"
      ]
     },
     "execution_count": 107,
     "metadata": {},
     "output_type": "execute_result"
    }
   ],
   "source": [
    "[x.NodeValue for x in tree_to_test.Root.Children[4].Children[1].Children[0].Children]"
   ]
  },
  {
   "cell_type": "code",
   "execution_count": null,
   "metadata": {},
   "outputs": [],
   "source": []
  }
 ],
 "metadata": {
  "kernelspec": {
   "display_name": "Python 3",
   "language": "python",
   "name": "python3"
  },
  "language_info": {
   "codemirror_mode": {
    "name": "ipython",
    "version": 3
   },
   "file_extension": ".py",
   "mimetype": "text/x-python",
   "name": "python",
   "nbconvert_exporter": "python",
   "pygments_lexer": "ipython3",
   "version": "3.6.5"
  }
 },
 "nbformat": 4,
 "nbformat_minor": 2
}
